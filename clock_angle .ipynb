{
  "nbformat": 4,
  "nbformat_minor": 0,
  "metadata": {
    "colab": {
      "name": "clock_angle.ipynb",
      "provenance": [],
      "collapsed_sections": []
    },
    "kernelspec": {
      "name": "python3",
      "display_name": "Python 3"
    }
  },
  "cells": [
    {
      "cell_type": "code",
      "metadata": {
        "id": "PaRVfnoGl4bu"
      },
      "source": [
        "def hour_min(hr,mint):\r\n",
        "    if(hr == 12):\r\n",
        "        hr = 0\r\n",
        "        \"\"\" 1 hour = 60 minutes \"\"\"\r\n",
        "    if(mint == 60):\r\n",
        "        hr = hr+1\r\n",
        "    \"\"\"The hour hand of a normal 12-hour analogue clock turns 360° in 12 hours (720 minutes) or 0.5° per minute.\"\"\" \r\n",
        "    theta_hr = 0.5*((hr*60)+mint)\r\n",
        "    \"\"\"The minute hand rotates through 360° in 60 minutes or 6° per minute.\"\"\"\r\n",
        "    theta_min = 6*mint\r\n",
        "    theta = abs(theta_hr - theta_min)\r\n",
        "    theta1 = min(theta , 360 - theta)\r\n",
        "    print(\"The angle between two clock hands is \" + str(int(theta1)) + \" degrees.\")\r\n"
      ],
      "execution_count": 31,
      "outputs": []
    },
    {
      "cell_type": "code",
      "metadata": {
        "id": "F-p1Lc0BoAL5",
        "colab": {
          "base_uri": "https://localhost:8080/"
        },
        "outputId": "0d34aaaf-f590-49bc-db02-e2dd2941dbba"
      },
      "source": [
        "\"\"\"Example\"\"\"\r\n",
        "hour_min(3,30)"
      ],
      "execution_count": 38,
      "outputs": [
        {
          "output_type": "stream",
          "text": [
            "The angle between two clock hands is 75 degrees.\n"
          ],
          "name": "stdout"
        }
      ]
    },
    {
      "cell_type": "code",
      "metadata": {
        "id": "qxaqc0zi-jwG"
      },
      "source": [
        ""
      ],
      "execution_count": null,
      "outputs": []
    }
  ]
}